{
 "cells": [
  {
   "cell_type": "code",
   "execution_count": 2,
   "id": "e0a16634",
   "metadata": {},
   "outputs": [],
   "source": [
    "import numpy as np"
   ]
  },
  {
   "cell_type": "code",
   "execution_count": 1,
   "id": "ec8430c2",
   "metadata": {},
   "outputs": [],
   "source": [
    "wheat_profit = 1\n",
    "beetroot_profit = 1\n",
    "carrot_profit = 2.79\n",
    "potato_profit = 2.54\n",
    "wheat_trade = 20\n",
    "beetroot_trade = 15\n",
    "carrot_trade = 22\n",
    "potato_trade = 26"
   ]
  },
  {
   "cell_type": "code",
   "execution_count": 3,
   "id": "1fdaaed1",
   "metadata": {},
   "outputs": [],
   "source": [
    "MAX_POINTS = 4 + 8*0.75\n",
    "def growth_prob(points=MAX_POINTS):\n",
    "    return 1 / np.floor(25. / points + 1)"
   ]
  },
  {
   "cell_type": "code",
   "execution_count": 13,
   "id": "9af398cb",
   "metadata": {},
   "outputs": [
    {
     "name": "stdout",
     "output_type": "stream",
     "text": [
      "0.000244140625\n"
     ]
    }
   ],
   "source": [
    "TIME_PER_RANDOM_TICK = 1 / 68.27\n",
    "TICK_PROB = 1. / 4096\n",
    "normal_growth_prob = growth_prob()\n",
    "beetroot_growth_prob = normal_growth_prob * 2 / 3\n",
    "print(TICK_PROB)"
   ]
  },
  {
   "cell_type": "code",
   "execution_count": 40,
   "id": "4421e651",
   "metadata": {},
   "outputs": [],
   "source": [
    "def simulate(t, num_seeds=64):\n",
    "    wheat = [0 for _ in range(num_seeds)]\n",
    "    carrots = [0 for _ in range(num_seeds)]\n",
    "    potatoes = [0 for _ in range(num_seeds)]\n",
    "    beetroots = [0 for _ in range(num_seeds)]\n",
    "    num_seconds = 60*t\n",
    "    num_ticks = 20*num_seconds\n",
    "    for second in range(num_ticks):\n",
    "        for i in range(num_seeds):\n",
    "            for _ in range(3):\n",
    "                if np.random.random() < TICK_PROB:\n",
    "                    r = np.random.random()\n",
    "                    if r < normal_growth_prob:\n",
    "                        wheat[i] += 1\n",
    "                        carrots[i] += 1\n",
    "                        potatoes[i] += 1\n",
    "                    if r < beetroot_growth_prob:\n",
    "                        beetroots[i] += 1\n",
    "    \n",
    "    # print the results\n",
    "    num_wheat = len([a for a in wheat if a > 7]) * wheat_profit\n",
    "    num_carrots = int(len([a for a in carrots if a > 7]) * carrot_profit)\n",
    "    num_potatoes = int(len([a for a in potatoes if a > 7]) * potato_profit)\n",
    "    num_beetroots = len([a for a in beetroots if a > 3]) * beetroot_profit\n",
    "    wheat_emeralds = num_wheat // wheat_trade\n",
    "    carrot_emeralds = num_carrots // carrot_trade\n",
    "    potato_emeralds = num_potatoes // potato_trade\n",
    "    beetroot_emeralds = num_beetroots // beetroot_trade\n",
    "    #print(\"{} wheat for {} emeralds\".format(num_wheat, wheat_emeralds))\n",
    "    #print(\"{} carrots for {} emeralds\".format(num_carrots, carrot_emeralds))\n",
    "    #print(\"{} potatoes for {} emeralds\".format(num_potatoes, potato_emeralds))\n",
    "    #print(\"{} beetroots for {} emeralds\".format(num_beetroots, beetroot_emeralds))\n",
    "    return (num_wheat, num_carrots, num_potatoes, num_beetroots)\n",
    "\n",
    "def multi_simulate(num_harvests, t_per_harvest, num_seeds=64):\n",
    "    num_wheat = 0\n",
    "    num_carrots = 0\n",
    "    num_potatoes = 0\n",
    "    num_beetroots = 0\n",
    "    for _ in range(num_harvests):\n",
    "        w, c, p, b = simulate(t_per_harvest, num_seeds)\n",
    "        num_wheat += w\n",
    "        num_carrots += c\n",
    "        num_potatoes += p\n",
    "        num_beetroots += b\n",
    "\n",
    "    wheat_emeralds = num_wheat // wheat_trade\n",
    "    carrot_emeralds = num_carrots // carrot_trade\n",
    "    potato_emeralds = num_potatoes // potato_trade\n",
    "    beetroot_emeralds = num_beetroots // beetroot_trade\n",
    "    print(\"{} wheat for {} emeralds\".format(num_wheat, wheat_emeralds))\n",
    "    print(\"{} carrots for {} emeralds\".format(num_carrots, carrot_emeralds))\n",
    "    print(\"{} potatoes for {} emeralds\".format(num_potatoes, potato_emeralds))\n",
    "    print(\"{} beetroots for {} emeralds\".format(num_beetroots, beetroot_emeralds))\n",
    "    return (wheat_emeralds, carrot_emeralds, potato_emeralds, beetroot_emeralds)"
   ]
  },
  {
   "cell_type": "code",
   "execution_count": 41,
   "id": "e5e0a72c",
   "metadata": {},
   "outputs": [
    {
     "name": "stdout",
     "output_type": "stream",
     "text": [
      "405 wheat for 20 emeralds\n",
      "1126 carrots for 51 emeralds\n",
      "1023 potatoes for 39 emeralds\n",
      "519 beetroots for 34 emeralds\n",
      "415 wheat for 20 emeralds\n",
      "1153 carrots for 52 emeralds\n",
      "1050 potatoes for 40 emeralds\n",
      "532 beetroots for 35 emeralds\n",
      "398 wheat for 19 emeralds\n",
      "1106 carrots for 50 emeralds\n",
      "1005 potatoes for 38 emeralds\n",
      "527 beetroots for 35 emeralds\n",
      "411 wheat for 20 emeralds\n",
      "1143 carrots for 51 emeralds\n",
      "1039 potatoes for 39 emeralds\n",
      "529 beetroots for 35 emeralds\n",
      "413 wheat for 20 emeralds\n",
      "1148 carrots for 52 emeralds\n",
      "1046 potatoes for 40 emeralds\n",
      "529 beetroots for 35 emeralds\n",
      "424 wheat for 21 emeralds\n",
      "1177 carrots for 53 emeralds\n",
      "1072 potatoes for 41 emeralds\n",
      "525 beetroots for 35 emeralds\n",
      "413 wheat for 20 emeralds\n",
      "1146 carrots for 52 emeralds\n",
      "1044 potatoes for 40 emeralds\n",
      "525 beetroots for 35 emeralds\n",
      "416 wheat for 20 emeralds\n",
      "1155 carrots for 52 emeralds\n",
      "1053 potatoes for 40 emeralds\n",
      "539 beetroots for 35 emeralds\n",
      "397 wheat for 19 emeralds\n",
      "1103 carrots for 50 emeralds\n",
      "1003 potatoes for 38 emeralds\n",
      "520 beetroots for 34 emeralds\n",
      "398 wheat for 19 emeralds\n",
      "1106 carrots for 50 emeralds\n",
      "1007 potatoes for 38 emeralds\n",
      "529 beetroots for 35 emeralds\n",
      "Averaged 19.8 emeralds from wheat for each group of 10 30-minute harvests\n",
      "Averaged 51.3 emeralds from carrots for each group of 10 30-minute harvests\n",
      "Averaged 39.3 emeralds from potatoes for each group of 10 30-minute harvests\n",
      "Averaged 34.8 emeralds from beetroot for each group of 10 30-minute harvests\n"
     ]
    }
   ],
   "source": [
    "w_ems = 0\n",
    "c_ems = 0\n",
    "p_ems = 0\n",
    "b_ems = 0\n",
    "num_trials = 10\n",
    "for _ in range(num_trials):\n",
    "    w, c, p, b = multi_simulate(10, 30, 64)\n",
    "    w_ems += w\n",
    "    c_ems += c\n",
    "    p_ems += p\n",
    "    b_ems += b\n",
    "w_ems /= num_trials\n",
    "c_ems /= num_trials\n",
    "p_ems /= num_trials\n",
    "b_ems /= num_trials\n",
    "print(\"Averaged {} emeralds from wheat for each group of 10 30-minute harvests\".format(w_ems))\n",
    "print(\"Averaged {} emeralds from carrots for each group of 10 30-minute harvests\".format(c_ems))\n",
    "print(\"Averaged {} emeralds from potatoes for each group of 10 30-minute harvests\".format(p_ems))\n",
    "print(\"Averaged {} emeralds from beetroot for each group of 10 30-minute harvests\".format(b_ems))"
   ]
  },
  {
   "cell_type": "code",
   "execution_count": null,
   "id": "9febab94",
   "metadata": {},
   "outputs": [],
   "source": []
  }
 ],
 "metadata": {
  "kernelspec": {
   "display_name": "Python 3",
   "language": "python",
   "name": "python3"
  },
  "language_info": {
   "codemirror_mode": {
    "name": "ipython",
    "version": 3
   },
   "file_extension": ".py",
   "mimetype": "text/x-python",
   "name": "python",
   "nbconvert_exporter": "python",
   "pygments_lexer": "ipython3",
   "version": "3.8.8"
  }
 },
 "nbformat": 4,
 "nbformat_minor": 5
}
